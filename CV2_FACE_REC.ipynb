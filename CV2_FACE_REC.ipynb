{
 "cells": [
  {
   "cell_type": "code",
   "execution_count": 1,
   "metadata": {},
   "outputs": [],
   "source": [
    "import cv2 as cv\n",
    "import numpy as np"
   ]
  },
  {
   "cell_type": "code",
   "execution_count": 2,
   "metadata": {},
   "outputs": [],
   "source": [
    "#importing \n",
    "haar_cascade = cv.CascadeClassifier('./Classifiers/front_face_default.xml')"
   ]
  },
  {
   "cell_type": "code",
   "execution_count": 13,
   "metadata": {},
   "outputs": [],
   "source": [
    "#detection\n",
    "def face_rectangle(image):\n",
    "    grey = cv.cvtColor(image, cv.COLOR_BGR2GRAY)\n",
    "    faces_rect = haar_cascade.detectMultiScale(grey, 1.1, 7)\n",
    "    #draw face rectangle\n",
    "    faces = image\n",
    "    for (x,y,w,h) in faces_rect:\n",
    "        faces = cv.rectangle(image, (x,y), (x+w, y+h), (0,255,0), 2)\n",
    "\n",
    "    return faces\n"
   ]
  },
  {
   "cell_type": "code",
   "execution_count": 15,
   "metadata": {
    "scrolled": true
   },
   "outputs": [],
   "source": [
    "vid = cv.VideoCapture(0)\n",
    "while True :\n",
    "      \n",
    "    # Capture the video frame\n",
    "\n",
    "    ret, frame = vid.read()\n",
    "    detect_face = face_rectangle(frame)\n",
    "    # Display the resulting frame\n",
    "    cv.imshow('face', detect_face)\n",
    "    \n",
    "    if cv.waitKey(1) & 0xFF == ord('q'):\n",
    "        break\n",
    "  \n",
    "# After the loop release the cap object\n",
    "vid.release()\n",
    "cv.destroyAllWindows()\n"
   ]
  },
  {
   "cell_type": "code",
   "execution_count": null,
   "metadata": {},
   "outputs": [],
   "source": []
  }
 ],
 "metadata": {
  "kernelspec": {
   "display_name": "Python 3",
   "language": "python",
   "name": "python3"
  },
  "language_info": {
   "codemirror_mode": {
    "name": "ipython",
    "version": 3
   },
   "file_extension": ".py",
   "mimetype": "text/x-python",
   "name": "python",
   "nbconvert_exporter": "python",
   "pygments_lexer": "ipython3",
   "version": "3.8.5"
  }
 },
 "nbformat": 4,
 "nbformat_minor": 4
}
